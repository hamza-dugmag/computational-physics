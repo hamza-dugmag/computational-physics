{
 "cells": [
  {
   "cell_type": "markdown",
   "metadata": {},
   "source": [
    "# **N Body Problem**\n",
    "2022-07-01 | https://www.youtube.com/watch?v=otRtUiCcCh4"
   ]
  },
  {
   "cell_type": "code",
   "execution_count": 1,
   "metadata": {},
   "outputs": [],
   "source": [
    "import numpy as np\n",
    "import matplotlib.pyplot as plt\n",
    "from scipy.integrate import odeint, solve_ivp\n",
    "from matplotlib import animation\n",
    "from mpl_toolkits.mplot3d import Axes3D\n",
    "from matplotlib.animation import PillowWriter"
   ]
  },
  {
   "cell_type": "markdown",
   "metadata": {},
   "source": [
    "Newton's Law of Gravity states\n",
    "$$F = ma = G\\frac{Mm}{r^2}$$\n",
    "hence, $a=G\\frac{M}{r^2}$.\n",
    "\n",
    "For a collection of masses, written in terms of vectors, we get a second-order ODE:\n",
    "$$\\frac{d^2\\vec{r}_i}{dt^2} = \\sum_{j \\neq i} G\\frac{m_j}{r^3_{ij}} \\vec{r}_{ij}$$\n",
    "\n",
    "where $\\vec{r}_i$ and $m_i$ are the location and mass of the ith particle respectively. $\\vec{r}_{ij} = \\vec{r}_j - \\vec{r}_i$\n",
    "(the tail of this vector is at $\\vec{r}_i$ and points to $\\vec{r}_j$).\n",
    "\n",
    "Dimensions for this problem are too small for efficient computation ($G \\approx 6.67 \\times 10^{-11}$). So, convert to dimensionless quantities:\n",
    "\n",
    "$$\\frac{d^2(L\\vec{r}_i/L)}{dt^2} = \\sum_{j \\neq i} G\\frac{Mm_j/M}{L^3r^3_{ij}/L^3} L\\vec{r}_{ij}/L$$\n",
    "\n",
    "$$\\frac{Ld^2(\\vec{r}'_i)}{dt^2} = \\sum_{j \\neq i} G\\frac{Mm_j'}{L^3r'^3_{ij}} L\\vec{r}'_{ij}$$\n",
    "\n",
    "$$\\frac{L^3}{GM}\\frac{d^2(\\vec{r}'_i)}{dt^2} = \\sum_{j \\neq i} \\frac{m_j'}{r'^3_{ij}} \\vec{r}'_{ij}$$\n",
    "\n",
    "$$\\frac{d^2(\\vec{r}'_i)}{d\\left(t\\sqrt{\\frac{GM}{L^3}}\\right)^2} = \\sum_{j \\neq i} \\frac{m_j'}{r'^3_{ij}} \\vec{r}'_{ij}$$\n",
    "\n",
    "$$\\frac{d^2\\vec{r}'_i}{dt'^2} = \\sum_{j \\neq i} \\frac{m'_j}{r'^3_{ij}} \\vec{r}'_{ij}$$\n",
    "\n",
    "where\n",
    "- $\\vec{r}'_i = \\vec{r}_i/L$ and $\\vec{r}'_{ij} = \\vec{r}_{ij}/L$, for a characteristic length $L$\n",
    "- $m'_i = m_i/L$, for a characteristic mass $M$\n",
    "- $t' = t\\sqrt{GM/L^3}$\n",
    "\n",
    "Drop the primes for the rest of the code, assuming everything is dimensionless. We can solve for the motion of the object, as a function of dimensionless time $t'$, then scale to $t$ using\n",
    "$$t = t' \\sqrt{L^3/GM}$$"
   ]
  },
  {
   "cell_type": "markdown",
   "metadata": {},
   "source": [
    "## N=2 Body Problem\n",
    "\n",
    "To simulate Earth's motion around the Sun, set\n",
    "- $M = \\text{mass of Earth} = 5.97 \\times 10^{24} \\ \\text{kg}$\n",
    "- $L = \\text{Earth-Sun distance} = 1.5 \\times 10^{11} \\ \\text{m}$"
   ]
  },
  {
   "cell_type": "code",
   "execution_count": 28,
   "metadata": {},
   "outputs": [],
   "source": [
    "# 1: Earth\n",
    "# 2: Sun\n",
    "\n",
    "# Masses\n",
    "m1 = 1\n",
    "m2 = 333000  # Sun is 333000x heavier than Earth\n",
    "\n",
    "# Initial positions\n",
    "x1_0 = 1\n",
    "y1_0 = 0\n",
    "\n",
    "x2_0 = 0\n",
    "y2_0 = 0\n",
    "\n",
    "# Initial velocities\n",
    "vx1_0 = 0\n",
    "vy1_0 = np.sqrt(m2)  # Circular motion: v=sqrt(a*r) with a=m2 (since G=1, r12=1)\n",
    "\n",
    "vx2_0 = 0\n",
    "vy2_0 = 0"
   ]
  },
  {
   "cell_type": "markdown",
   "metadata": {},
   "source": [
    "Note that any second-order ODE\n",
    "\n",
    "$$\\frac{d^2 y}{dt^2} = F\\left(y, \\frac{dy}{dt}, t \\right)$$\n",
    "\n",
    "can be written as two coupled first-order ODEs after defining $v_y = dy/dt$:\n",
    "\n",
    "$$\\begin{cases}\n",
    "    \\frac{dy}{dt} = v_y \\\\\n",
    "    \\frac{dv_y}{dt} = F\\left(y, v_y, t \\right)\n",
    "\\end{cases}$$\n",
    "\n",
    "So, we define our system of what we need to solve for as\n",
    "$$\\vec{S} = (x_1, y_1, x_2, y_2, v_{x1}, v_{y1}, v_{x2}, v_{y2})$$\n",
    "\n",
    "We need to write in a function that takes in $\\vec{S}$ and returns $d\\vec{S}/dt$."
   ]
  },
  {
   "cell_type": "code",
   "execution_count": 29,
   "metadata": {},
   "outputs": [],
   "source": [
    "def dSdt(S, t):\n",
    "    x1, y1, x2, y2, vx1, vy1, vx2, vy2 = S\n",
    "    r12 = np.sqrt((x2-x1)**2 + (y2-y1)**2)\n",
    "    return [\n",
    "        vx1, vy1, vx2, vy2,\n",
    "        m2/r12**3 * (x2-x1),  # ax1\n",
    "        m2/r12**3 * (y2-y1),  # ay1\n",
    "        m1/r12**3 * (x1-x2),  # ax2\n",
    "        m1/r12**3 * (y1-y2),  # ay2\n",
    "    ]"
   ]
  },
  {
   "cell_type": "code",
   "execution_count": 30,
   "metadata": {},
   "outputs": [],
   "source": [
    "# Array of times\n",
    "t = np.linspace(0, 1, 10000)"
   ]
  },
  {
   "cell_type": "code",
   "execution_count": 31,
   "metadata": {},
   "outputs": [],
   "source": [
    "# ODE solution\n",
    "sol = odeint(dSdt, y0=[x1_0, y1_0, x2_0, y2_0, vx1_0, vy1_0, vx2_0, vy2_0], t=t)"
   ]
  },
  {
   "cell_type": "code",
   "execution_count": 32,
   "metadata": {},
   "outputs": [
    {
     "data": {
      "image/png": "[encoded data removed]",
      "text/plain": [
       "<Figure size 432x288 with 1 Axes>"
      ]
     },
     "metadata": {
      "needs_background": "light"
     },
     "output_type": "display_data"
    }
   ],
   "source": [
    "# Plot x as a function of dimensionless time\n",
    "plt.plot(sol.T[0])\n",
    "plt.xlim(0, 200)\n",
    "plt.grid()"
   ]
  },
  {
   "cell_type": "code",
   "execution_count": 33,
   "metadata": {},
   "outputs": [],
   "source": [
    "# Convert dimensionless time to years\n",
    "\n",
    "# 1) Convert to seconds (SI units) using the conversion factor\n",
    "tt = np.sqrt((1.5e11)**3 / (6.67e-11 * 5.97e24))\n",
    "\n",
    "# 2) Convert from seconds to years\n",
    "tt = tt / (60*60*24*365.25) * np.diff(t)[0]  # per time step (in years)"
   ]
  },
  {
   "cell_type": "code",
   "execution_count": 34,
   "metadata": {},
   "outputs": [],
   "source": [
    "# Extract ODE solutions\n",
    "x1 = sol.T[0]\n",
    "y1 = sol.T[1]\n",
    "x2 = sol.T[2]\n",
    "y2 = sol.T[3]"
   ]
  },
  {
   "cell_type": "code",
   "execution_count": 36,
   "metadata": {},
   "outputs": [
    {
     "data": {
      "image/png": "[encoded data removed]",
      "text/plain": [
       "<Figure size 576x576 with 1 Axes>"
      ]
     },
     "metadata": {
      "needs_background": "light"
     },
     "output_type": "display_data"
    }
   ],
   "source": [
    "# Create animation\n",
    "def animate(i):\n",
    "    ln1.set_data([x1[i], x2[i]], [y1[i], y2[i]])\n",
    "    text.set_text(\"Time = {:.2f} Years\".format(i*tt))\n",
    "\n",
    "fig, ax = plt.subplots(1, 1, figsize=(8,8))\n",
    "ax.grid()\n",
    "ln1, = plt.plot([], [], \"ro--\", lw=3, markersize=8)\n",
    "text = plt.text(0.7, 0.7, \"\")\n",
    "ax.set_ylim(-5, 5)\n",
    "ax.set_xlim(-5, 5)\n",
    "ani = animation.FuncAnimation(fig, animate, frames=200, interval=50)\n",
    "ani.save(\"two_body.gif\", writer=\"pillow\", fps=30)"
   ]
  },
  {
   "cell_type": "markdown",
   "metadata": {},
   "source": [
    "## N=3 Body Problem\n",
    "\n",
    "- https://arxiv.org/abs/1303.0181\n",
    "- https://arxiv.org/abs/1709.04775\n",
    "\n",
    "These two papers look at the three body problem under the following initial conditions ($t=0$):\n",
    "- $m_1 = m_2 = 1$, $m_3$ can vary\n",
    "- $x_1 = -x_2 = -1$ and $x_3 = 0$\n",
    "- $y_1 = y_2 = y_3 = 0$\n",
    "- $v_{x1} = v_{x2} = v_1$, where $v_1$ is some defined speed\n",
    "- $v_{y1} = v_{y2} = v_2$, where $v_2$ is some defined speed\n",
    "- $v_{x3} = -2v_1/m_3$ and $v_{y3} = -2v_2/m_3$\n",
    "\n",
    "Thus, the only parameters that are altered are $m_3$, $v_1$, and $v_2$. **These are states with zero angular momentum.**\n",
    "\n",
    "See Table I from paper 1 and Table I from paper 2 for interesting stable configurations (hard to find!). Here are two:\n",
    "1. From last row of Table I paper 2: $v_1 = 0.9911981217$, $v_2 = 0.7119472124$, and $m_3 = 4$\n",
    "2. From second row of Table I paper 1: $v_1 = 0.39295$, $v_2 = 0.09758$, and $m_3 = 1$"
   ]
  },
  {
   "cell_type": "code",
   "execution_count": 27,
   "metadata": {},
   "outputs": [],
   "source": [
    "# Parameters to change\n",
    "m3 = 4\n",
    "v1 = 0.9911981217\n",
    "v2 = 0.7119472124\n",
    "\n",
    "# Everything else frollows from the paper\n",
    "m1 = 1\n",
    "m2 = 1\n",
    "m3 = m3\n",
    "\n",
    "x1_0 = -1\n",
    "y1_0 = 0\n",
    "\n",
    "x2_0 = 1\n",
    "y2_0 = 0\n",
    "\n",
    "x3_0 = 0\n",
    "y3_0 = 0\n",
    "\n",
    "vx1_0 = v1\n",
    "vy1_0 = v2\n",
    "\n",
    "vx2_0 = v1\n",
    "vy2_0 = v2\n",
    "\n",
    "vx3_0 = -2*v1/m3\n",
    "vy3_0 = -2*v2/m3"
   ]
  },
  {
   "cell_type": "code",
   "execution_count": 28,
   "metadata": {},
   "outputs": [],
   "source": [
    "# Define the ODE system\n",
    "def dSdt(t, S):\n",
    "    x1, y1, x2, y2, x3, y3, vx1, vy1, vx2, vy2, vx3, vy3 = S\n",
    "    r12 = np.sqrt((x2-x1)**2 + (y2-y1)**2)\n",
    "    r13 = np.sqrt((x3-x1)**2 + (y3-y1)**2)\n",
    "    r23 = np.sqrt((x3-x2)**2 + (y3-y2)**2)\n",
    "    return [\n",
    "        vx1, vy1, vx2, vy2, vx3, vy3,\n",
    "        m2/r12**3 * (x2-x1) + m3/r13**3 * (x3-x1),  # mass 1\n",
    "        m2/r12**3 * (y2-y1) + m3/r13**3 * (y3-y1),\n",
    "        m1/r12**3 * (x1-x2) + m3/r23**3 * (x3-x2),  # mass 2\n",
    "        m1/r12**3 * (y1-y2) + m3/r23**3 * (y3-y2),\n",
    "        m1/r13**3 * (x1-x3) + m2/r23**3 * (x2-x3),  # mass 3\n",
    "        m1/r13**3 * (y1-y3) + m2/r23**3 * (y2-y3)\n",
    "    ]"
   ]
  },
  {
   "cell_type": "code",
   "execution_count": 29,
   "metadata": {},
   "outputs": [],
   "source": [
    "# Times to solve\n",
    "t = np.linspace(0, 20, 1000)"
   ]
  },
  {
   "cell_type": "markdown",
   "metadata": {},
   "source": [
    "Use the special `DOP853` solver as recommended by the paper. We need to set very small values for `rtol` and `atol` to ensure a proper solution."
   ]
  },
  {
   "cell_type": "code",
   "execution_count": 30,
   "metadata": {},
   "outputs": [],
   "source": [
    "sol = solve_ivp(\n",
    "    dSdt, (0, 20),\n",
    "    y0=[x1_0, y1_0, x2_0, y2_0, x3_0, y3_0, vx1_0, vy1_0, vx2_0, vy2_0, vx3_0, vy3_0],\n",
    "    method=\"DOP853\", t_eval=t, rtol=1e-10, atol=1e-13\n",
    ")"
   ]
  },
  {
   "cell_type": "code",
   "execution_count": 31,
   "metadata": {},
   "outputs": [],
   "source": [
    "# Get solutions for the three particles\n",
    "t = sol.t\n",
    "\n",
    "x1 = sol.y[0]\n",
    "y1 = sol.y[1]\n",
    "\n",
    "x2 = sol.y[2]\n",
    "y2 = sol.y[3]\n",
    "\n",
    "x3 = sol.y[4]\n",
    "y3 = sol.y[5]"
   ]
  },
  {
   "cell_type": "code",
   "execution_count": 32,
   "metadata": {},
   "outputs": [
    {
     "data": {
      "text/plain": [
       "[<matplotlib.lines.Line2D at 0x23155a1aef0>]"
      ]
     },
     "execution_count": 32,
     "metadata": {},
     "output_type": "execute_result"
    },
    {
     "data": {
      "image/png": "[encoded data removed]",
      "text/plain": [
       "<Figure size 432x288 with 1 Axes>"
      ]
     },
     "metadata": {
      "needs_background": "light"
     },
     "output_type": "display_data"
    }
   ],
   "source": [
    "# Plot x_1 as a function of dimensionless time\n",
    "plt.plot(t, x1)"
   ]
  },
  {
   "cell_type": "code",
   "execution_count": 33,
   "metadata": {},
   "outputs": [],
   "source": [
    "# Get the actual times (assuming three suns orbiting at Earth-Sun distance)\n",
    "tt = 1/np.sqrt(6.67e-11 * 1.99e30 / (1.5e11)**3)  # seconds\n",
    "tt = tt / (60*60*24*365.25) * np.diff(t)[0]  # per time step (in years)"
   ]
  },
  {
   "cell_type": "code",
   "execution_count": 34,
   "metadata": {},
   "outputs": [
    {
     "data": {
      "image/png": "[encoded data removed]",
      "text/plain": [
       "<Figure size 576x576 with 1 Axes>"
      ]
     },
     "metadata": {
      "needs_background": "light"
     },
     "output_type": "display_data"
    }
   ],
   "source": [
    "# Create animation\n",
    "def animate(i):\n",
    "    ln1.set_data([x1[i], x2[i], x3[i]], [y1[i], y2[i], y3[i]])\n",
    "    text.set_text(\"Time = {:.1f} Years\".format(i*tt))\n",
    "\n",
    "fig, ax = plt.subplots(1, 1, figsize=(8,8))\n",
    "ax.grid()\n",
    "ln1, = plt.plot([], [], \"ro\", lw=3, markersize=6)\n",
    "text = plt.text(0, 1.75, \"asdasd\", fontsize=20, backgroundcolor=\"white\", ha=\"center\")\n",
    "ax.set_ylim(-2, 2)\n",
    "ax.set_xlim(-2, 2)\n",
    "ani = animation.FuncAnimation(fig, animate, frames=1000, interval=50)\n",
    "ani.save(\"three_body.gif\", writer=\"pillow\", fps=30)"
   ]
  }
 ],
 "metadata": {
  "kernelspec": {
   "display_name": "Python 3.10.4 ('py10')",
   "language": "python",
   "name": "python3"
  },
  "language_info": {
   "codemirror_mode": {
    "name": "ipython",
    "version": 3
   },
   "file_extension": ".py",
   "mimetype": "text/x-python",
   "name": "python",
   "nbconvert_exporter": "python",
   "pygments_lexer": "ipython3",
   "version": "3.10.4"
  },
  "orig_nbformat": 4,
  "vscode": {
   "interpreter": {
    "hash": "07e5c73e64f450036897f18a970aa51dba2afa327b5a17f1e6e720d78170e41d"
   }
  }
 },
 "nbformat": 4,
 "nbformat_minor": 2
}
